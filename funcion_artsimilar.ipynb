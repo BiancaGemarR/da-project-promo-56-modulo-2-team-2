{
 "cells": [
  {
   "cell_type": "code",
   "execution_count": 1,
   "id": "fe6ad03d",
   "metadata": {},
   "outputs": [],
   "source": [
    "import json\n",
    "import pandas as pd"
   ]
  },
  {
   "cell_type": "code",
   "execution_count": 2,
   "id": "3001c2c6",
   "metadata": {},
   "outputs": [],
   "source": [
    "import requests\n",
    "from dotenv import load_dotenv\n",
    "import os\n",
    "\n",
    "load_dotenv(dotenv_path=\"api.env\")\n",
    "\n",
    "api_key = os.getenv(\"API_KEY_LASTFM\") "
   ]
  },
  {
   "cell_type": "code",
   "execution_count": 1,
   "id": "f6edf320",
   "metadata": {},
   "outputs": [],
   "source": [
    "import csv\n",
    "with open('list_artist_rock.csv', \"r\") as archivo:\n",
    "    lector = csv.reader(archivo)\n",
    "    lista = list(lector) "
   ]
  },
  {
   "cell_type": "markdown",
   "id": "8d4e3293",
   "metadata": {},
   "source": [
    "--------------------------"
   ]
  },
  {
   "cell_type": "code",
   "execution_count": null,
   "id": "991b7791",
   "metadata": {},
   "outputs": [],
   "source": [
    "def similar_artistas(artist, api_key):\n",
    "    url = 'http://ws.audioscrobbler.com/2.0/'\n",
    "    params = {\n",
    "        'method': 'artist.getinfo',\n",
    "        'artist' : artist,\n",
    "        'api_key': api_key,\n",
    "        'format': 'json'\n",
    "        }\n",
    "    nombres = []\n",
    "    response = requests.get(url, params=params)\n",
    "    if response.status_code != 200:\n",
    "        print(f\"Da error\")\n",
    "    else:\n",
    "        datos = response.json()\n",
    "        artistas_similares = datos.get('artist').get('similar')\n",
    "        for artist in artistas_similares.get('artist'):\n",
    "                nombres.append(artist['name'])\n",
    "    return nombres"
   ]
  },
  {
   "cell_type": "code",
   "execution_count": null,
   "id": "47607748",
   "metadata": {},
   "outputs": [],
   "source": [
    "#CHECK BELOW---\n",
    "\n",
    "limit = 200\n",
    "contador = 0\n",
    "for i in lista:\n",
    "    if contador >= limit:\n",
    "        break\n",
    "    similar_artistas(i, api_key)\n",
    "    contador += 1\n",
    "    similar = print(similar_artistas(i, api_key))"
   ]
  },
  {
   "cell_type": "code",
   "execution_count": null,
   "id": "2aa3c583",
   "metadata": {},
   "outputs": [],
   "source": [
    "df = pd.DataFrame(similar)\n",
    "df.to_csv('similar_rock.csv', index=False)"
   ]
  }
 ],
 "metadata": {
  "kernelspec": {
   "display_name": "base",
   "language": "python",
   "name": "python3"
  },
  "language_info": {
   "codemirror_mode": {
    "name": "ipython",
    "version": 3
   },
   "file_extension": ".py",
   "mimetype": "text/x-python",
   "name": "python",
   "nbconvert_exporter": "python",
   "pygments_lexer": "ipython3",
   "version": "3.12.7"
  }
 },
 "nbformat": 4,
 "nbformat_minor": 5
}
