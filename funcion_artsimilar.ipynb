{
 "cells": [
  {
   "cell_type": "code",
   "execution_count": 18,
   "id": "fe6ad03d",
   "metadata": {},
   "outputs": [],
   "source": [
    "import json\n",
    "import pandas as pd"
   ]
  },
  {
   "cell_type": "code",
   "execution_count": 19,
   "id": "3001c2c6",
   "metadata": {},
   "outputs": [],
   "source": [
    "import requests\n",
    "from dotenv import load_dotenv\n",
    "import os\n",
    "\n",
    "load_dotenv(dotenv_path=\"api.env\")\n",
    "\n",
    "api_key = os.getenv(\"API_KEY_LASTFM\") "
   ]
  },
  {
   "cell_type": "code",
   "execution_count": 20,
   "id": "f6edf320",
   "metadata": {},
   "outputs": [],
   "source": [
    "import csv\n",
    "with open('list_artist_jazz.csv', \"r\") as archivo:\n",
    "    lector = csv.reader(archivo)\n",
    "    lista = list(lector) "
   ]
  },
  {
   "cell_type": "markdown",
   "id": "8d4e3293",
   "metadata": {},
   "source": [
    "--------------------------"
   ]
  },
  {
   "cell_type": "code",
   "execution_count": 21,
   "id": "991b7791",
   "metadata": {},
   "outputs": [],
   "source": [
    "def similar_artistas(artist, api_key):\n",
    "    url = 'http://ws.audioscrobbler.com/2.0/'\n",
    "    params = {\n",
    "        'method': 'artist.getinfo',\n",
    "        'artist' : artist,\n",
    "        'api_key': api_key,\n",
    "        'format': 'json'\n",
    "        }\n",
    "    nombres = []\n",
    "    response = requests.get(url, params=params)\n",
    "    if response.status_code != 200:\n",
    "        print(f\"Da error\")\n",
    "    else:\n",
    "        datos = response.json()\n",
    "        artistas_similares = datos.get('artist').get('similar')\n",
    "        for artist in artistas_similares.get('artist'):\n",
    "                nombres.append(artist['name'])\n",
    "    return nombres"
   ]
  },
  {
   "cell_type": "code",
   "execution_count": 22,
   "id": "47607748",
   "metadata": {},
   "outputs": [],
   "source": [
    "#CHECK BELOW---\n",
    "resultados_nombres = []\n",
    "limit = 200\n",
    "contador = 0\n",
    "for i in lista:\n",
    "    if contador >= limit:\n",
    "        break\n",
    "    similares = similar_artistas(i, api_key)\n",
    "    resultados_nombres.append({\n",
    "        'artista': i,\n",
    "        'similares': similares\n",
    "    })\n",
    "    contador += 1\n",
    " \n"
   ]
  },
  {
   "cell_type": "code",
   "execution_count": 23,
   "id": "2aa3c583",
   "metadata": {},
   "outputs": [],
   "source": [
    "df = pd.DataFrame(resultados_nombres)\n",
    "df.to_csv('similar_jazz.csv', index=False)"
   ]
  },
  {
   "cell_type": "code",
   "execution_count": 24,
   "id": "e1c32790",
   "metadata": {},
   "outputs": [
    {
     "data": {
      "text/html": [
       "<div>\n",
       "<style scoped>\n",
       "    .dataframe tbody tr th:only-of-type {\n",
       "        vertical-align: middle;\n",
       "    }\n",
       "\n",
       "    .dataframe tbody tr th {\n",
       "        vertical-align: top;\n",
       "    }\n",
       "\n",
       "    .dataframe thead th {\n",
       "        text-align: right;\n",
       "    }\n",
       "</style>\n",
       "<table border=\"1\" class=\"dataframe\">\n",
       "  <thead>\n",
       "    <tr style=\"text-align: right;\">\n",
       "      <th></th>\n",
       "      <th>artista</th>\n",
       "      <th>similares</th>\n",
       "    </tr>\n",
       "  </thead>\n",
       "  <tbody>\n",
       "    <tr>\n",
       "      <th>0</th>\n",
       "      <td>[Astrio]</td>\n",
       "      <td>[Gnaposs, Chocadelia Internacional, bRUNA, The...</td>\n",
       "    </tr>\n",
       "    <tr>\n",
       "      <th>1</th>\n",
       "      <td>[Jacky Terrasson]</td>\n",
       "      <td>[Bill Charlap Trio, Cyrus Chestnut, Eric Legni...</td>\n",
       "    </tr>\n",
       "    <tr>\n",
       "      <th>2</th>\n",
       "      <td>[Jimmy Dorsey]</td>\n",
       "      <td>[Tommy Dorsey and His Orchestra, Tommy Dorsey ...</td>\n",
       "    </tr>\n",
       "    <tr>\n",
       "      <th>3</th>\n",
       "      <td>[Kin Garcia Trio]</td>\n",
       "      <td>[]</td>\n",
       "    </tr>\n",
       "    <tr>\n",
       "      <th>4</th>\n",
       "      <td>[ORQUESTRA DE JAZZ DE GALICIA]</td>\n",
       "      <td>[Real Filharmonia de Galicia, Quinito Mourelle...</td>\n",
       "    </tr>\n",
       "    <tr>\n",
       "      <th>...</th>\n",
       "      <td>...</td>\n",
       "      <td>...</td>\n",
       "    </tr>\n",
       "    <tr>\n",
       "      <th>195</th>\n",
       "      <td>[Mongo Santamaria]</td>\n",
       "      <td>[Ray Barretto, Willie Bobo, Eddie Palmieri, Ti...</td>\n",
       "    </tr>\n",
       "    <tr>\n",
       "      <th>196</th>\n",
       "      <td>[Dale Burbeck]</td>\n",
       "      <td>[Mitch Joy, John Devson, Marcus Daves, Elena T...</td>\n",
       "    </tr>\n",
       "    <tr>\n",
       "      <th>197</th>\n",
       "      <td>[Thelonious Coltrane]</td>\n",
       "      <td>[Remulak, otesla, Donkeychote, yeyts., Fed Nance]</td>\n",
       "    </tr>\n",
       "    <tr>\n",
       "      <th>198</th>\n",
       "      <td>[Konstantin Klashtorni]</td>\n",
       "      <td>[Kool&amp;Klean, Brian Simpson, Jonathan Fritzén, ...</td>\n",
       "    </tr>\n",
       "    <tr>\n",
       "      <th>199</th>\n",
       "      <td>[James Butler]</td>\n",
       "      <td>[Restaurant Lounge Background Music, Florito, ...</td>\n",
       "    </tr>\n",
       "  </tbody>\n",
       "</table>\n",
       "<p>200 rows × 2 columns</p>\n",
       "</div>"
      ],
      "text/plain": [
       "                            artista  \\\n",
       "0                          [Astrio]   \n",
       "1                 [Jacky Terrasson]   \n",
       "2                    [Jimmy Dorsey]   \n",
       "3                 [Kin Garcia Trio]   \n",
       "4    [ORQUESTRA DE JAZZ DE GALICIA]   \n",
       "..                              ...   \n",
       "195              [Mongo Santamaria]   \n",
       "196                  [Dale Burbeck]   \n",
       "197           [Thelonious Coltrane]   \n",
       "198         [Konstantin Klashtorni]   \n",
       "199                  [James Butler]   \n",
       "\n",
       "                                             similares  \n",
       "0    [Gnaposs, Chocadelia Internacional, bRUNA, The...  \n",
       "1    [Bill Charlap Trio, Cyrus Chestnut, Eric Legni...  \n",
       "2    [Tommy Dorsey and His Orchestra, Tommy Dorsey ...  \n",
       "3                                                   []  \n",
       "4    [Real Filharmonia de Galicia, Quinito Mourelle...  \n",
       "..                                                 ...  \n",
       "195  [Ray Barretto, Willie Bobo, Eddie Palmieri, Ti...  \n",
       "196  [Mitch Joy, John Devson, Marcus Daves, Elena T...  \n",
       "197  [Remulak, otesla, Donkeychote, yeyts., Fed Nance]  \n",
       "198  [Kool&Klean, Brian Simpson, Jonathan Fritzén, ...  \n",
       "199  [Restaurant Lounge Background Music, Florito, ...  \n",
       "\n",
       "[200 rows x 2 columns]"
      ]
     },
     "execution_count": 24,
     "metadata": {},
     "output_type": "execute_result"
    }
   ],
   "source": [
    "df"
   ]
  }
 ],
 "metadata": {
  "kernelspec": {
   "display_name": "base",
   "language": "python",
   "name": "python3"
  },
  "language_info": {
   "codemirror_mode": {
    "name": "ipython",
    "version": 3
   },
   "file_extension": ".py",
   "mimetype": "text/x-python",
   "name": "python",
   "nbconvert_exporter": "python",
   "pygments_lexer": "ipython3",
   "version": "3.12.7"
  }
 },
 "nbformat": 4,
 "nbformat_minor": 5
}
