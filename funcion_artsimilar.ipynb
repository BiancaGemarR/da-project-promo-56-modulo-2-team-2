{
 "cells": [
  {
   "cell_type": "code",
   "execution_count": null,
   "id": "a22a6f12",
   "metadata": {},
   "outputs": [],
   "source": [
    "import requests\n",
    "\n",
    "def busca_artistas_similares(artist, api_key):\n",
    "    url = 'http://ws.audioscrobbler.com/2.0/'\n",
    "    params = {\n",
    "        'method': 'artist.getsimilar',\n",
    "        'artist': artist,\n",
    "        'api_key': api_key,\n",
    "        'format': 'json',\n",
    "        'limit': 10\n",
    "    }\n",
    "    response = requests.get(url, params=params)\n",
    "    if response.status_code == 200:  #necesita el status_code\n",
    "        datos = response.json()\n",
    "        artistas = []\n",
    "        artists = datos.get('similarartists', {}).get('artist', []) #si similarartist no existe devuelve {} e = con artist\n",
    "        artistas.extend(artists) #añade cada artista individualx\n",
    "        for artista in artistas:\n",
    "            print(f\"{artista['name']} - {artista['url']}\") #se puede añadir url o dejar solo el nombre del artista\n",
    "    else:\n",
    "        print(f\"Error\", response.status_code) #por si da error el response #print o response?queremos imprimir o q nos lo devuelva"
   ]
  }
 ],
 "metadata": {
  "language_info": {
   "name": "python"
  }
 },
 "nbformat": 4,
 "nbformat_minor": 5
}
