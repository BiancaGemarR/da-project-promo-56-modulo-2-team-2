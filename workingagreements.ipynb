{
 "cells": [
  {
   "cell_type": "markdown",
   "id": "3ab98c98",
   "metadata": {},
   "source": [
    "Working agreements:\n",
    "1. Colaboración entre todas, aportar en conjunto.\n",
    "2. Cada una se encarga de una parte del conjunto mayor.\n",
    "3. Comunicación —> Daylies.\n",
    "4. En general comunicación empática.\n",
    "5. Responder a Slack, no solapar en git hub.\n",
    "6. Reuniones Lunes y Jueves 16h.\n",
    "7. Flexibilidad."
   ]
  },
  {
   "cell_type": "markdown",
   "id": "32bf0e2f",
   "metadata": {},
   "source": [
    "hola\n"
   ]
  }
 ],
 "metadata": {
  "kernelspec": {
   "display_name": "base",
   "language": "python",
   "name": "python3"
  },
  "language_info": {
   "codemirror_mode": {
    "name": "ipython",
    "version": 3
   },
   "file_extension": ".py",
   "mimetype": "text/x-python",
   "name": "python",
   "nbconvert_exporter": "python",
   "pygments_lexer": "ipython3",
   "version": "3.12.7"
  }
 },
 "nbformat": 4,
 "nbformat_minor": 5
}
