{
 "cells": [
  {
   "cell_type": "code",
   "execution_count": 1,
   "id": "4f5ae2ef",
   "metadata": {},
   "outputs": [
    {
     "name": "stdout",
     "output_type": "stream",
     "text": [
      "Tu API Key es: None\n"
     ]
    }
   ],
   "source": [
    "import requests\n",
    "from dotenv import load_dotenv\n",
    "import os\n",
    "\n",
    "load_dotenv(dotenv_path=\"apimusica.env\")\n",
    "\n",
    "api_key = os.getenv(\"API_KEY_LASTFM\")  # Asegurate de que este nombre coincide con tu archivo .env\n",
    "print(\"Tu API Key es:\", api_key)"
   ]
  },
  {
   "cell_type": "code",
   "execution_count": 2,
   "id": "368f470c",
   "metadata": {},
   "outputs": [],
   "source": [
    "def bio(artist, api_key):\n",
    "    url = 'http://ws.audioscrobbler.com/2.0/'\n",
    "    params = {\n",
    "        'method': 'artist.getinfo',\n",
    "        'artist' : artist,\n",
    "        'api_key': api_key,\n",
    "        'format': 'json'\n",
    "        }\n",
    "    biografias = []\n",
    "    response = requests.get(url, params=params)\n",
    "    if response.status_code != 200:\n",
    "        print(f\"Da error\")\n",
    "    else:\n",
    "        datos = response.json()\n",
    "        info =datos['artist']['bio']['summary']\n",
    "        biografias.append(info)\n",
    "    return biografias"
   ]
  },
  {
   "cell_type": "code",
   "execution_count": 3,
   "id": "684345dd",
   "metadata": {},
   "outputs": [
    {
     "name": "stdout",
     "output_type": "stream",
     "text": [
      "Da error\n"
     ]
    },
    {
     "data": {
      "text/plain": [
       "[]"
      ]
     },
     "execution_count": 3,
     "metadata": {},
     "output_type": "execute_result"
    }
   ],
   "source": [
    "bio('Ludwig van Beethoven', api_key)"
   ]
  }
 ],
 "metadata": {
  "kernelspec": {
   "display_name": "base",
   "language": "python",
   "name": "python3"
  },
  "language_info": {
   "codemirror_mode": {
    "name": "ipython",
    "version": 3
   },
   "file_extension": ".py",
   "mimetype": "text/x-python",
   "name": "python",
   "nbconvert_exporter": "python",
   "pygments_lexer": "ipython3",
   "version": "3.12.7"
  }
 },
 "nbformat": 4,
 "nbformat_minor": 5
}
